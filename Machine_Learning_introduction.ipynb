{
  "nbformat": 4,
  "nbformat_minor": 0,
  "metadata": {
    "colab": {
      "provenance": [],
      "authorship_tag": "ABX9TyNr3r0y6QB2ojcdBWgpbXut",
      "include_colab_link": true
    },
    "kernelspec": {
      "name": "python3",
      "display_name": "Python 3"
    },
    "language_info": {
      "name": "python"
    }
  },
  "cells": [
    {
      "cell_type": "markdown",
      "metadata": {
        "id": "view-in-github",
        "colab_type": "text"
      },
      "source": [
        "<a href=\"https://colab.research.google.com/github/sharithomas/ML-AI/blob/main/Machine_Learning_introduction.ipynb\" target=\"_parent\"><img src=\"https://colab.research.google.com/assets/colab-badge.svg\" alt=\"Open In Colab\"/></a>"
      ]
    },
    {
      "cell_type": "markdown",
      "source": [
        "Tools & Languages in AI & Machine Learning\n",
        "\n",
        "**1. Python**\n",
        "\n",
        "Python is the most widely used programming language in AI. It’s simple, versatile, and backed by thousands of libraries.\n",
        "Why it matters: Readable syntax, massive community, and endless ML/AI resources.\n",
        "\n",
        "\n",
        "**2. NumPy & Pandas **\n",
        "\n",
        "Before building models, you clean and understand data. These libraries make it easy.\n",
        "\n",
        "NumPy: Fast matrix computations\n",
        "\n",
        "Pandas: Smart data manipulation and analysis\n",
        "\n",
        "\n",
        "**3. Scikit-learn **\n",
        "\n",
        "Want to build a model to predict house prices or classify emails as spam? Scikit-learn is perfect for regression, classification, clustering, and more.\n",
        "\n",
        "\n",
        " **4. TensorFlow & PyTorch – Deep Learning Giants**\n",
        "\n",
        "These are the two leading frameworks used for building neural networks, CNNs, RNNs, LLMs, and more.\n",
        "\n",
        "TensorFlow: Backed by Google, highly scalable\n",
        "\n",
        "PyTorch: Preferred in research for its flexibility and Pythonic style\n",
        "\n",
        "\n",
        "**5. Keras – The Friendly Deep Learning API**\n",
        "\n",
        "Built on top of TensorFlow, it allows quick prototyping of deep learning models with minimal code.\n",
        "\n",
        "\n",
        "**6. OpenCV – For Computer Vision**\n",
        "\n",
        "Want to build face recognition or object detection apps? OpenCV is your go-to for processing images and video.\n",
        "\n",
        "\n",
        "**7. NLTK & spaCy – NLP Toolkits**\n",
        "\n",
        "These tools help machines understand human language. You’ll use them to build chatbots, summarize text, or analyze sentiment.\n",
        "\n",
        "\n",
        "**8. Jupyter Notebook**\n",
        "\n",
        "Interactive notebooks where you can write code, visualize data, and explain logic in one place. Great for experimentation and demos.\n",
        "\n",
        "\n",
        "**9. Google Colab – Free GPU-Powered Coding**\n",
        "\n",
        "Run your AI code with GPUs for free in the cloud — ideal for training ML models without any setup.\n",
        "\n",
        "\n",
        "**10. Hugging Face – Pre-trained AI Models**\n",
        "\n",
        "Use models like BERT, GPT, and more with just a few lines of code. No need to train everything from scratch!"
      ],
      "metadata": {
        "id": "C8Y8d_tC0shq"
      }
    },
    {
      "cell_type": "markdown",
      "source": [
        "***Understanding Data & Datasets***\n",
        "\n",
        "In AI and Machine Learning, data isn’t just important — it’s everything.\n",
        "\n",
        "Without clean, relevant data, even the best algorithms fail. Today, we’ll cover how to find, clean, and prepare data for powerful AI models.\n",
        "\n",
        "\n",
        "1. What Is a Dataset?\n",
        "\n",
        "A dataset is a structured collection of data — like an Excel file or a table — used to train and test ML models.\n",
        "\n",
        "Examples:\n",
        "\n",
        "- Image datasets (e.g., CIFAR-10, MNIST)\n",
        "- Text datasets (e.g., IMDB reviews, news articles)\n",
        "- Tabular datasets (e.g., Titanic dataset, sales reports)\n",
        "\n",
        "\n",
        "2. Types of Data\n",
        "\n",
        "Structured Data: Rows and columns (e.g., Excel, SQL)\n",
        "\n",
        "Unstructured Data: Images, audio, video, text\n",
        "\n",
        "Semi-structured Data: JSON, XML\n",
        "\n",
        "\n",
        "\n",
        "3. Sources of Datasets\n",
        "\n",
        "You can find free datasets on:\n",
        "\n",
        "- Kaggle\n",
        "- UCI Machine Learning Repository\n",
        "- Google Dataset Search\n",
        "- Hugging Face Datasets\n",
        "\n",
        "\n",
        "4. Steps in Data Preparation\n",
        "\n",
        "a. Data Cleaning:\n",
        "\n",
        "- Remove null values\n",
        "\n",
        "- Handle duplicates\n",
        "\n",
        "- Fix inconsistent formatting\n",
        "\n",
        "\n",
        "b. Data Transformation:\n",
        "\n",
        "- Normalize or standardize values\n",
        "\n",
        "- Encode categorical variables\n",
        "\n",
        "- Scale numerical features\n",
        "\n",
        "\n",
        "c. Splitting Data:\n",
        "\n",
        "- Train set (e.g., 80%)\n",
        "\n",
        "- Test set (e.g., 20%)\n",
        "\n",
        "- Optionally: Validation set (for tuning)\n",
        "\n",
        "\n",
        "5. Why Data Quality Matters\n",
        "\n",
        "Bad data = bad predictions.\n",
        "\n",
        "Your model learns patterns from data — if the data is incorrect, incomplete, or biased, your AI will reflect that.\n"
      ],
      "metadata": {
        "id": "xX4BwJxc2d8t"
      }
    },
    {
      "cell_type": "markdown",
      "source": [
        "**Introduction to Machine Learning (ML)**\n",
        "\n",
        "***Machine Learning*** is the core of Artificial Intelligence — enabling systems to learn from data and make decisions with minimal human intervention.\n",
        "\n",
        "\n",
        "1. What Is Machine Learning?\n",
        "\n",
        "Machine Learning is a subset of AI that allows machines to learn from data, identify patterns, and make predictions or decisions without being explicitly programmed.\n",
        "\n",
        "\n",
        "2. Three Main Types of ML\n",
        "\n",
        "a. Supervised Learning\n",
        "\n",
        "- Data is labeled\n",
        "\n",
        "- The model learns from input-output pairs\n",
        "\n",
        "\n",
        "Examples:\n",
        "\n",
        "- Predicting house prices\n",
        "\n",
        "- Classifying emails as spam or not\n",
        "\n",
        "\n",
        "b. Unsupervised Learning\n",
        "\n",
        "- Data is not labeled\n",
        "\n",
        "- The model finds hidden patterns or groupings\n",
        "\n",
        "Examples:\n",
        "\n",
        "- Customer segmentation\n",
        "\n",
        "- Market basket analysis\n",
        "\n",
        "\n",
        "c. Reinforcement Learning\n",
        "\n",
        "- The model learns by trial and error\n",
        "\n",
        "- Receives rewards or penalties\n",
        "\n",
        "- Used in gaming, robotics, autonomous systems\n",
        "\n",
        "\n",
        "3. Popular ML Algorithms\n",
        "\n",
        "- Linear Regression – For prediction (Supervised)\n",
        "\n",
        "- K-Means Clustering – For grouping (Unsupervised)\n",
        "\n",
        "- Decision Trees – For classification tasks\n",
        "\n",
        "- Q-Learning – For reinforcement learning\n",
        "\n",
        "\n",
        "4. Workflow of a Typical ML Project\n",
        "\n",
        "1. Data Collection\n",
        "2. Data Preprocessing\n",
        "3. Model Selection\n",
        "4. Training the Model\n",
        "5. Model Evaluation\n",
        "6. Model Deployment\n",
        "\n",
        "\n",
        "5. Real-World Examples of ML\n",
        "\n",
        "- Netflix recommends what you’ll watch next\n",
        "\n",
        "- Credit card companies detect fraud\n",
        "\n",
        "- Amazon suggests what you might want to buy\n",
        "\n",
        "- Self-driving cars recognize stop signs and pedestrians\n"
      ],
      "metadata": {
        "id": "iyr8Ob893FRu"
      }
    },
    {
      "cell_type": "markdown",
      "source": [
        "**Supervised learning**\n",
        "\n",
        "Supervised learning as the name indicates the presence of a supervisor as a teacher. Basically supervised learning is a learning in which we teach or train the machine using data which is well labeled that means some data is already tagged with the correct answer. After that, the machine is provided with a new set of examples(data) so that supervised learning algorithm analyses the training data(set of training examples) and produces a correct outcome from labeled data.\n",
        "Supervised learning classified into two categories of algorithms:\n",
        "\n",
        "•\t**Classification**: A classification problem is when the output variable is a category, such as “Red” or “blue” or “disease” and “no disease”.\n",
        "\n",
        "•\t**Regression**: A regression problem is when the output variable is a real value, such as “dollars” or “weight”.\n"
      ],
      "metadata": {
        "id": "OmuRKJR55Cyz"
      }
    },
    {
      "cell_type": "markdown",
      "source": [
        "**Unsupervised learning**\n",
        "\n",
        "**Unsupervised learning **is the training of machine using information that is neither classified nor labeled and allowing the algorithm to act on that information without guidance. Here the task of machine is to group unsorted information according to similarities, patterns and differences without any prior training of data.\n",
        "\n",
        "Unsupervised learning classified into two categories of algorithms:\n",
        "\n",
        "•\t**Clustering**: A clustering problem is where you want to discover the inherent groupings in the data, such as grouping customers by purchasing behavior.\n",
        "\n",
        "•\t**Association**: An association rule learning problem is where you want to discover rules that describe large portions of your data, such as people that buy X also tend to buy Y.\n"
      ],
      "metadata": {
        "id": "9BVP4-e56xAK"
      }
    },
    {
      "cell_type": "markdown",
      "source": [
        "**Reinforcement learning.**\n",
        "\n",
        "A newer type of learning problem that has gained a great deal of traction recently is called reinforcement learning. In reinforcement learning, we do not provide the machine with examples of correct input-output pairs, but we do provide a method for the machine to quantify its performance in the form of a reward signal. Reinforcement learning methods resemble how humans and animals learn: the machine tries a bunch of different things and is rewarded when it does something well.\n"
      ],
      "metadata": {
        "id": "ecTE_CVA6_sN"
      }
    },
    {
      "cell_type": "code",
      "source": [],
      "metadata": {
        "id": "0T6O5TTo6wpv"
      },
      "execution_count": null,
      "outputs": []
    },
    {
      "cell_type": "markdown",
      "source": [
        "Linear Regression — Your First AI Algorithm!\n",
        "\n",
        "Linear Regression is the most basic yet powerful algorithm in machine learning. It finds the relationship between a dependent variable (Y) and one or more independent variables (X) by fitting a straight line.\n",
        "\n",
        "Real-life analogy:\n",
        "Imagine you want to predict someone’s weight based on their height. Linear regression draws a line that best fits all the (height, weight) data points to make such predictions.\n",
        "\n",
        "Mathematical Form:\n",
        "Y = mX + b\n",
        "\n",
        "Where:\n",
        "\n",
        "- Y is the predicted value\n",
        "- m is the slope\n",
        "- X is the input variable\n",
        "- b is the intercept\n",
        "\n",
        "\n",
        "Use cases:\n",
        "\n",
        "- Predicting house prices\n",
        "- Forecasting sales\n",
        "- Estimating stock trends\n",
        "- Any problem involving continuous numerical prediction\n",
        "\n",
        "\n",
        "Tools used:\n",
        "Python Libraries: Scikit-learn, Pandas, Matplotlib"
      ],
      "metadata": {
        "id": "pKGajLWa4Bqd"
      }
    },
    {
      "cell_type": "code",
      "source": [
        "from sklearn.linear_model import LinearRegression\n",
        "import pandas as pd\n",
        "\n",
        "# Sample Data\n",
        "data = {'Experience': [1, 2, 3, 4], 'Salary': [30000, 35000, 40000, 45000]}\n",
        "df = pd.DataFrame(data)\n",
        "\n",
        "# Splitting variables\n",
        "X = df[['Experience']]\n",
        "y = df['Salary']\n",
        "\n",
        "# Model Training\n",
        "model = LinearRegression()\n",
        "model.fit(X, y)\n",
        "\n",
        "# Predicting\n",
        "print(model.predict([[5]]))  # Predict salary for 5 years experience"
      ],
      "metadata": {
        "colab": {
          "base_uri": "https://localhost:8080/"
        },
        "id": "oghu77Nu2yTJ",
        "outputId": "225d7f11-9684-4e0e-c4ac-2cd0c00bf2fe"
      },
      "execution_count": 1,
      "outputs": [
        {
          "output_type": "stream",
          "name": "stdout",
          "text": [
            "[50000.]\n"
          ]
        },
        {
          "output_type": "stream",
          "name": "stderr",
          "text": [
            "/usr/local/lib/python3.11/dist-packages/sklearn/utils/validation.py:2739: UserWarning: X does not have valid feature names, but LinearRegression was fitted with feature names\n",
            "  warnings.warn(\n"
          ]
        }
      ]
    },
    {
      "cell_type": "markdown",
      "source": [],
      "metadata": {
        "id": "ZBRAM83A2q7S"
      }
    },
    {
      "cell_type": "code",
      "source": [],
      "metadata": {
        "id": "gyvM1uJ01eId"
      },
      "execution_count": null,
      "outputs": []
    },
    {
      "cell_type": "code",
      "execution_count": null,
      "metadata": {
        "id": "2F2vEWB1zw_B"
      },
      "outputs": [],
      "source": []
    }
  ]
}